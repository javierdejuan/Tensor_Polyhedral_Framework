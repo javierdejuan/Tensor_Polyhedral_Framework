{
 "cells": [
  {
   "cell_type": "markdown",
   "metadata": {},
   "source": [
    "## Tensor Polyhedra Framework  \n",
    "### Welcome to the future.  \n",
    "This is an educational version using symbolic library to focus on linear transformation. For a production code symbolic calculation is not needed.  \n",
    "In this demo we are going to perform a Polyhedral Scheduler Transformation on the following kernel written in C:  \n",
    "```\n",
    "for(i=0;i<=N;i++)\n",
    "    A[i]=0             // X statement\n",
    "for(j=0;j<=N;j++)\n",
    "    for(k=0,k<=N;k++)\n",
    "        B[j] += A[k];  // Y Statement\n",
    "```  \n",
    "In a polyhedral transformation, we do not care of the computing statements, so the above Kernel can be rewritten as:  \n",
    "```\n",
    "for(i=0;i<=N;i++)\n",
    "    X(i);             \n",
    "for(j=0;j<=N;j++)\n",
    "    for(k=0,k<=N;k++)\n",
    "        Y(j,k);\n",
    "```  \n",
    "Let's introduce the concept of *scheduling vectors*. A *scheduling vector* captures information regarding *when* a tuple $(i,j,k)$ is executed. Hence whe can map our ```X``` and ```Y``` statements like this:  \n",
    "```X(i,0,0)```-> X[i]     is executed at _date_ [i * *days*,0,0]  \n",
    "```Y(N,j,k)```-> Y[N,j,k] is executed at _data_ [N * *days*, j * *minutes*, k * *seconds*]  \n",
    "\n",
    "So, what really *is* a Polyhedral Transformation?  \n",
    "Well, unfortunatly Polyhedral Theory is difficult to understand, but the underlying idea is quit straight forward. How can we rearrange X and Y execution dates to have a new Kernel which obtain the same result as source Kernel but takes less time to obtain it?  \n",
    "This is done finding new X' and Y' such as  \n",
    "\n",
    "$$X´=(t^0_{xi}.i+t^0_{xj}.j+t^0_{xk}.k+t^0_{xN}.N+t^0_{x1}.1,t^1_{xi}.i+t^1_{xj}.j+t^1_{xk}.k+t^1_{xN}.N+t^1_{x1}.1)$$ and  \n",
    "\n",
    "$$Y´=(t^0_{yi}.i+t^0_{yj}.j+t^0_{yk}.k+t^0_{yN}.N+t^0_{y1}.1,t^0_{yi}.i+t^0_{yj}.j+t^0_{yk}.k+t^0_{yN}.N+t^0_{y1}.1)$$\n",
    "\n",
    "where $t^d_{sr}$ coefficients are optimaly calculated to ensure that we get a code that yields the same result and execute faster relying on the possibilities of parallelization of the hardware.  \n",
    "In order to solve our problem, we need to feed our polyhedral model with a set of constraints that ensures legal excution of code:  \n",
    "we define:  \n",
    "```\n",
    "    D_X = { (i)     | 0 <= i <= N }  \n",
    "    D_Y = { (j,k)   | 0 <= j <= N && 0 <= k <= N }\n",
    "```\n",
    "We can then define a kind of constraints called *dependencies* such as:\n",
    "\n",
    "```  \n",
    "    D_XY = { (ic,jc,kc)     | 0 <= ic <= N  && 0 <= jc <= N && 0 <= kc <= N && ic == kc } \n",
    "    D_YY = { (js,ks,jt,kt)  | 0 <= js <= N  && 0 <= ks <= N && 0 <= jt <= N  && 0 <= kt <= N && js == kt && kt > ks  }\n",
    "```\n",
    "Expression ```D_XY``` captures the read/write access of statements X and Y over array A: ```A[k]=A[i]```.  \n",
    "In the other hand, expression ```D_YY``` capures the read/write access of statement Y over array B: ```B[j] = B[j] + A[k]```.\n",
    "\n",
    "Last, let's define two function $f$ and $g$ such as:  \n",
    "\n",
    "```\n",
    "    f(i_c,j_c,k_t)=T_y(j_c,k_c)-T_x(i_c)-e_dxy>=0 in D_XY\n",
    "```\n",
    "and  \n",
    "```    \n",
    "    g(j_s,k_s,j_t,k_t)=T_y(j_t,k_t)-T_y(j_s,k_s)-e_dyy>=0 in D_YY  \n",
    "    with   \n",
    "    0 <= e_DXY <= 1  \n",
    "    0 <= e_DYY <= 1  \n",
    "``` \n",
    "\n",
    "Both functions captures the access relations and the precedences constraints. From C code we derive that B[k] must be executed after A[i]. Besides variables js,ks,jt and kt captures the B[k] = B[k] + A[j] precedence constraint.  \n",
    "  \n",
    "Let's import ```sympy``` necessary modules and functions"
   ]
  },
  {
   "cell_type": "code",
   "execution_count": 8,
   "metadata": {},
   "outputs": [],
   "source": [
    "import sympy as sym\n",
    "from sympy.tensor.tensor import TensorIndexType,TensorIndex,TensorHead\n",
    "from sympy import solve,Eq,Mul,ones"
   ]
  },
  {
   "cell_type": "markdown",
   "metadata": {},
   "source": [
    "we can have **LaTex** format in Sympy outputs!"
   ]
  },
  {
   "cell_type": "code",
   "execution_count": 9,
   "metadata": {},
   "outputs": [],
   "source": [
    "sym.init_printing()"
   ]
  },
  {
   "cell_type": "markdown",
   "metadata": {},
   "source": [
    "#### Defining indices of $\\Gamma$ Polyhedral Tensor  \n",
    "Let's create first our different kinds of index in our spaces:"
   ]
  },
  {
   "cell_type": "code",
   "execution_count": 10,
   "metadata": {},
   "outputs": [],
   "source": [
    "Dimension   = TensorIndexType('Dimension'  , dummy_names = 'D' , metric_symmetry=1)\n",
    "Statement   = TensorIndexType('Statement'  , dummy_names = 'S' , metric_symmetry=1)\n",
    "Coefficient = TensorIndexType('Coefficient', dummy_names = 'C' , metric_symmetry=1)"
   ]
  },
  {
   "cell_type": "markdown",
   "metadata": {},
   "source": [
    "Then we can instanciate ```d,s,r``` indices for Dimensions, Statements and Coefficients, filling covariant or contravariant attribute when necesessary:"
   ]
  },
  {
   "cell_type": "code",
   "execution_count": 11,
   "metadata": {},
   "outputs": [],
   "source": [
    "d = TensorIndex('d', Dimension,   is_up = True)  # dimension -> vector space      -> contravariant index\n",
    "s = TensorIndex('s', Statement,   is_up = False) # statement -> dual vector space -> covariant     index\n",
    "r = TensorIndex('r', Coefficient, is_up = False) # rank      -> dual vector space -> covariant     index"
   ]
  },
  {
   "cell_type": "markdown",
   "metadata": {},
   "source": [
    "Now we can create our $\\Gamma^d_{sr}$ to instanciate a polyhedral tensor for the given C kernel"
   ]
  },
  {
   "cell_type": "code",
   "execution_count": 12,
   "metadata": {},
   "outputs": [],
   "source": [
    "Gamma = TensorHead('G',[Dimension,Statement,Coefficient])"
   ]
  },
  {
   "cell_type": "markdown",
   "metadata": {},
   "source": [
    "Let's populate our $\\Gamma^d_{sr}$ Tensor:"
   ]
  },
  {
   "cell_type": "code",
   "execution_count": 13,
   "metadata": {},
   "outputs": [],
   "source": [
    "t_i_x,t_j_x,t_k_x,t_N_x,t_1_x = sym.symbols(['t_i_x','t_j_x','t_k_x','t_N_x','t_1_x'])\n",
    "t_i_y,t_j_y,t_k_y,t_N_y,t_1_y = sym.symbols(['t_i_y','t_j_y','t_k_y','t_N_y','t_1_y'])\n",
    "e_dxy,e_dyy                   = sym.symbols(['e_dxy','e_dyy'])"
   ]
  },
  {
   "cell_type": "markdown",
   "metadata": {},
   "source": [
    "we know, from kernel dependencies scanning, that ```t_j_x```,```t_k_x``` and ```t_j_y``` are null, but, to keep consistence we define thehm.  \n",
    "Our problem contains three statements and a constant per dimension, so"
   ]
  },
  {
   "cell_type": "code",
   "execution_count": 14,
   "metadata": {},
   "outputs": [],
   "source": [
    "R_X = sym.Array([t_i_x,0,0,t_N_x,t_1_x])\n",
    "R_Y = sym.Array([0,t_j_y,t_k_y,t_N_y,t_1_y])\n",
    "R_1 = sym.Array([0,0,0,0,e_dxy])"
   ]
  },
  {
   "cell_type": "markdown",
   "metadata": {},
   "source": [
    "And we have ```X``` and ```Y``` statements, we add 1 for tensor algebra compatibility:"
   ]
  },
  {
   "cell_type": "code",
   "execution_count": 15,
   "metadata": {},
   "outputs": [
    {
     "data": {
      "text/latex": [
       "$\\displaystyle \\left[\\begin{matrix}t_{i x} & 0 & 0 & t_{N x} & t_{1 x}\\\\0 & t_{j y} & t_{k y} & t_{N y} & t_{1 y}\\\\0 & 0 & 0 & 0 & e_{dxy}\\end{matrix}\\right]$"
      ],
      "text/plain": [
       "⎡tᵢ ₓ    0      0    t_N_x  t₁ ₓ ⎤\n",
       "⎢                                ⎥\n",
       "⎢ 0    t_j_y  t_k_y  t_N_y  t_1_y⎥\n",
       "⎢                                ⎥\n",
       "⎣ 0      0      0      0    e_dxy⎦"
      ]
     },
     "execution_count": 15,
     "metadata": {},
     "output_type": "execute_result"
    }
   ],
   "source": [
    "S   = sym.Array([R_X,R_Y,R_1])\n",
    "S"
   ]
  },
  {
   "cell_type": "markdown",
   "metadata": {},
   "source": [
    "Last, let's make room for 2 dimensions, even if we may only need one of them:"
   ]
  },
  {
   "cell_type": "code",
   "execution_count": 16,
   "metadata": {},
   "outputs": [
    {
     "data": {
      "text/latex": [
       "$\\displaystyle \\left[\\begin{matrix}\\left[\\begin{matrix}t_{i x} & 0 & 0 & t_{N x} & t_{1 x}\\\\0 & t_{j y} & t_{k y} & t_{N y} & t_{1 y}\\\\0 & 0 & 0 & 0 & e_{dxy}\\end{matrix}\\right] & \\left[\\begin{matrix}t_{i x} & 0 & 0 & t_{N x} & t_{1 x}\\\\0 & t_{j y} & t_{k y} & t_{N y} & t_{1 y}\\\\0 & 0 & 0 & 0 & e_{dxy}\\end{matrix}\\right]\\end{matrix}\\right]$"
      ],
      "text/plain": [
       "⎡⎡tᵢ ₓ    0      0    t_N_x  t₁ ₓ ⎤  ⎡tᵢ ₓ    0      0    t_N_x  t₁ ₓ ⎤⎤\n",
       "⎢⎢                                ⎥  ⎢                                ⎥⎥\n",
       "⎢⎢ 0    t_j_y  t_k_y  t_N_y  t_1_y⎥  ⎢ 0    t_j_y  t_k_y  t_N_y  t_1_y⎥⎥\n",
       "⎢⎢                                ⎥  ⎢                                ⎥⎥\n",
       "⎣⎣ 0      0      0      0    e_dxy⎦  ⎣ 0      0      0      0    e_dxy⎦⎦"
      ]
     },
     "execution_count": 16,
     "metadata": {},
     "output_type": "execute_result"
    }
   ],
   "source": [
    "D = sym.Array([S,S])\n",
    "D"
   ]
  },
  {
   "cell_type": "markdown",
   "metadata": {},
   "source": [
    "Let's fill our $\\Gamma^d_{sr}$ Tensor with C Kernel information:"
   ]
  },
  {
   "cell_type": "code",
   "execution_count": 17,
   "metadata": {},
   "outputs": [],
   "source": [
    "T_Gamma = Gamma(d,s,r).replace_with_arrays({Gamma(d,s,r):D})"
   ]
  },
  {
   "cell_type": "code",
   "execution_count": 18,
   "metadata": {},
   "outputs": [
    {
     "data": {
      "text/latex": [
       "$\\displaystyle \\left[\\begin{matrix}\\left[\\begin{matrix}t_{i x} & 0 & 0 & t_{N x} & t_{1 x}\\\\0 & t_{j y} & t_{k y} & t_{N y} & t_{1 y}\\\\0 & 0 & 0 & 0 & e_{dxy}\\end{matrix}\\right] & \\left[\\begin{matrix}t_{i x} & 0 & 0 & t_{N x} & t_{1 x}\\\\0 & t_{j y} & t_{k y} & t_{N y} & t_{1 y}\\\\0 & 0 & 0 & 0 & e_{dxy}\\end{matrix}\\right]\\end{matrix}\\right]$"
      ],
      "text/plain": [
       "⎡⎡tᵢ ₓ    0      0    t_N_x  t₁ ₓ ⎤  ⎡tᵢ ₓ    0      0    t_N_x  t₁ ₓ ⎤⎤\n",
       "⎢⎢                                ⎥  ⎢                                ⎥⎥\n",
       "⎢⎢ 0    t_j_y  t_k_y  t_N_y  t_1_y⎥  ⎢ 0    t_j_y  t_k_y  t_N_y  t_1_y⎥⎥\n",
       "⎢⎢                                ⎥  ⎢                                ⎥⎥\n",
       "⎣⎣ 0      0      0      0    e_dxy⎦  ⎣ 0      0      0      0    e_dxy⎦⎦"
      ]
     },
     "execution_count": 18,
     "metadata": {},
     "output_type": "execute_result"
    }
   ],
   "source": [
    "T_Gamma"
   ]
  },
  {
   "cell_type": "markdown",
   "metadata": {},
   "source": [
    "The purpose of the Polyhedral Model is to find $\\Gamma^d_{sr}$ coefficients optimaly throught integer Linear Programming.   \n",
    "To do so, it is time to introduce affine schedule constyraints derived from C Kernel  \n",
    "```\n",
    "  f(ic, jc, kc)     = T_Y_0(jc,kc) - T_X_0(ic)     - e_DXY is non negative everywhere in D_XY\n",
    "  g(js, ks, jt, kt) = T_Y_0(jt,kt) - T_Y_0(js, ks) - e_DYY is non negative everywhere in D_YY\n",
    "  with\n",
    "  0 <= e_DXY <= 1  \n",
    "  0 <= e_DYY <= 1   \n",
    "```\n",
    "Polyhedral theory combined with an interpretation of [Farkas Lemma](https://en.wikipedia.org/wiki/Farkas%27_lemma) states that :    \n",
    "\n",
    "$$f(ic,jc,kc)=\\lambda_iB^i$$  \n",
    "where $B^i$ is $i^th$ bound restriction in $D_{xy}$ and $\\lambda_i$ are the so-called Farkas *multipliers*.  \n",
    "Let's inject both left hand side and right hand side equation terms in our tensor model, levering on tensor magic algebra, left hand side is given by the following expression:    \n",
    "\n",
    "$$f_r(ic,jc,kc)=\\Gamma^d_{sr}D_dF^s$$  \n",
    "$$g_r(js,ks,jt,kt)=\\Gamma^d_{sr}D_dG^s$$  \n",
    "  \n",
    "where $$D_s=\\begin{bmatrix}0\\\\1\\end{bmatrix}$$ and\n",
    "$$F^s=[-1,1,-1]$$\n",
    "$$G^s=[1,-1,-1]$$"
   ]
  },
  {
   "cell_type": "code",
   "execution_count": 19,
   "metadata": {},
   "outputs": [
    {
     "data": {
      "text/latex": [
       "$\\displaystyle G{}^{D_{0}}{}_{S_{0}r}D{}_{D_{0}}F{}^{S_{0}}$"
      ],
      "text/plain": [
       " D₀         S₀\n",
       "G     ⋅D  ⋅F  \n",
       "   S₀r  D₀    "
      ]
     },
     "execution_count": 19,
     "metadata": {},
     "output_type": "execute_result"
    }
   ],
   "source": [
    "Dim  = TensorHead('D',[Dimension])\n",
    "Stmt = TensorHead('F',[Statement])\n",
    "t    = Gamma(d,s,r)*Dim(-d)*Stmt(-s)\n",
    "t"
   ]
  },
  {
   "cell_type": "code",
   "execution_count": 20,
   "metadata": {},
   "outputs": [],
   "source": [
    "T_t = t.replace_with_arrays({Gamma(d,s,r):D,Dim(-d):[1,0],Stmt(-s):[-1,1,-1]})"
   ]
  },
  {
   "cell_type": "code",
   "execution_count": 21,
   "metadata": {},
   "outputs": [
    {
     "data": {
      "text/latex": [
       "$\\displaystyle \\left[\\begin{matrix}- t_{i x} & t_{j y} & t_{k y} & - t_{N x} + t_{N y} & - e_{dxy} - t_{1 x} + t_{1 y}\\end{matrix}\\right]$"
      ],
      "text/plain": [
       "[-tᵢ ₓ  t_j_y  t_k_y  -t_N_x + t_N_y  -e_dxy - t₁ ₓ + t_1_y]"
      ]
     },
     "execution_count": 21,
     "metadata": {},
     "output_type": "execute_result"
    }
   ],
   "source": [
    "T_t"
   ]
  },
  {
   "cell_type": "markdown",
   "metadata": {},
   "source": [
    "Which is a vector living in the vector space $e$ with basis $(i,j,k,N,1)$. Now, let's find the left hand side of our equation $f$.  \n",
    "Let's define some symbols for our $\\lambda$ multipliers."
   ]
  },
  {
   "cell_type": "code",
   "execution_count": 22,
   "metadata": {},
   "outputs": [],
   "source": [
    "l0,l1,l2,l3,l4,l5,l6,l7,l8,l9,l10 = sym.symbols(['l0','l1','l2','l3','l4','l5','l6','l7','l8','l9','l10'])"
   ]
  },
  {
   "cell_type": "markdown",
   "metadata": {},
   "source": [
    "Let's load our bounds defined in $D_{xy}$ domain:"
   ]
  },
  {
   "cell_type": "code",
   "execution_count": 23,
   "metadata": {},
   "outputs": [],
   "source": [
    "                     # i  j  k  N  1            \n",
    "bounds = sym.Matrix([[ 1, 0, 0, 0, 0 ],  # l1:  i     >= 0\n",
    "                     [-1, 0, 0, 1, 0 ],  # l2: -i + N >= 0\n",
    "                     [ 0, 1, 0, 0, 0 ],  # l3:  j     >= 0\n",
    "                     [ 0,-1, 0, 1, 0 ],  # l4: -j + N >= 0\n",
    "                     [ 0, 0, 1, 0, 0 ],  # l5:  k     >= 0\n",
    "                     [ 0, 0,-1, 1, 0 ],  # l6: -k + N >= 0\n",
    "                     [ 1, 0,-1, 0, 0 ],  # l7:  i - k >= 0\n",
    "                     [-1, 0, 1, 0, 0 ],  # l8: -i + k >= 0\n",
    "                     [ 0, 0, 0, 0, 1 ]]) # l9:  e_dxy >= 0\n",
    "     \n"
   ]
  },
  {
   "cell_type": "code",
   "execution_count": 24,
   "metadata": {},
   "outputs": [
    {
     "data": {
      "text/latex": [
       "$\\displaystyle \\left[\\begin{matrix}l_{1} & - l_{2} & 0 & 0 & 0 & 0 & l_{7} & - l_{8} & 0\\\\0 & 0 & l_{3} & - l_{4} & 0 & 0 & 0 & 0 & 0\\\\0 & 0 & 0 & 0 & l_{5} & - l_{6} & - l_{7} & l_{8} & 0\\\\0 & l_{2} & 0 & l_{4} & 0 & l_{6} & 0 & 0 & 0\\\\0 & 0 & 0 & 0 & 0 & 0 & 0 & 0 & l_{9}\\end{matrix}\\right]$"
      ],
      "text/plain": [
       "⎡l₁  -l₂  0    0   0    0   l₇   -l₈  0 ⎤\n",
       "⎢                                       ⎥\n",
       "⎢0    0   l₃  -l₄  0    0    0    0   0 ⎥\n",
       "⎢                                       ⎥\n",
       "⎢0    0   0    0   l₅  -l₆  -l₇  l₈   0 ⎥\n",
       "⎢                                       ⎥\n",
       "⎢0   l₂   0   l₄   0   l₆    0    0   0 ⎥\n",
       "⎢                                       ⎥\n",
       "⎣0    0   0    0   0    0    0    0   l₉⎦"
      ]
     },
     "execution_count": 24,
     "metadata": {},
     "output_type": "execute_result"
    }
   ],
   "source": [
    "diag_f   = sym.diag(l1,l2,l3,l4,l5,l6,l7,l8,l9).as_mutable()\n",
    "Farkas_f = (diag_f * bounds).T\n",
    "Farkas_f"
   ]
  },
  {
   "cell_type": "markdown",
   "metadata": {},
   "source": [
    "$f_r$ is a vector valued function living in the vector space $e$ with basis $(i,j,k,N,1)$, hence we can write:    \n",
    "$$f_r\\vec{e^r}=\\Gamma^d_{sr}D_dF^s\\vec{e^r}$$ and equating components we obtain:"
   ]
  },
  {
   "cell_type": "code",
   "execution_count": 30,
   "metadata": {},
   "outputs": [
    {
     "data": {
      "text/latex": [
       "$\\displaystyle \\left[ - l_{1} + l_{2} - l_{7} + l_{8} - t_{i x}, \\  - l_{3} + l_{4} + t_{j y}, \\  - l_{5} + l_{6} + l_{7} - l_{8} + t_{k y}, \\  - l_{2} - l_{4} - l_{6} - t_{N x} + t_{N y}, \\  - e_{dxy} - l_{9} - t_{1 x} + t_{1 y}\\right]$"
      ],
      "text/plain": [
       "[-l₁ + l₂ - l₇ + l₈ - tᵢ ₓ, -l₃ + l₄ + t_j_y, -l₅ + l₆ + l₇ - l₈ + t_k_y, -l₂ \n",
       "- l₄ - l₆ - t_N_x + t_N_y, -e_dxy - l₉ - t₁ ₓ + t_1_y]"
      ]
     },
     "execution_count": 30,
     "metadata": {},
     "output_type": "execute_result"
    }
   ],
   "source": [
    "o = sym.ones(1,Farkas_f.shape[1]).as_mutable().T\n",
    "f_rhs = Farkas_f * o\n",
    "f_eq = (sym.Matrix(T_t)-f_rhs,0)\n",
    "f_eq = [ a - b for a, b in zip(T_t,f_rhs)]\n",
    "f_eq"
   ]
  },
  {
   "cell_type": "markdown",
   "metadata": {},
   "source": [
    "in matrix form yields:"
   ]
  },
  {
   "cell_type": "code",
   "execution_count": 31,
   "metadata": {},
   "outputs": [
    {
     "data": {
      "text/latex": [
       "$\\displaystyle \\left( \\left[\\begin{array}{ccccccccccccccccc}-1 & 1 & 0 & 0 & 0 & 0 & -1 & 1 & 0 & 0 & 0 & 0 & 0 & -1 & 0 & 0 & 0\\\\0 & 0 & -1 & 1 & 0 & 0 & 0 & 0 & 0 & 1 & 0 & 0 & 0 & 0 & 0 & 0 & 0\\\\0 & 0 & 0 & 0 & -1 & 1 & 1 & -1 & 0 & 0 & 1 & 0 & 0 & 0 & 0 & 0 & 0\\\\0 & -1 & 0 & -1 & 0 & -1 & 0 & 0 & 0 & 0 & 0 & 1 & 0 & 0 & -1 & 0 & 0\\\\0 & 0 & 0 & 0 & 0 & 0 & 0 & 0 & -1 & 0 & 0 & 0 & 1 & 0 & 0 & -1 & -1\\end{array}\\right], \\  \\left[\\begin{matrix}0\\\\0\\\\0\\\\0\\\\0\\end{matrix}\\right]\\right)$"
      ],
      "text/plain": [
       "⎛⎡-1  1   0   0   0   0   -1  1   0   0  0  0  0  -1  0   0   0 ⎤  ⎡0⎤⎞\n",
       "⎜⎢                                                              ⎥  ⎢ ⎥⎟\n",
       "⎜⎢0   0   -1  1   0   0   0   0   0   1  0  0  0  0   0   0   0 ⎥  ⎢0⎥⎟\n",
       "⎜⎢                                                              ⎥  ⎢ ⎥⎟\n",
       "⎜⎢0   0   0   0   -1  1   1   -1  0   0  1  0  0  0   0   0   0 ⎥, ⎢0⎥⎟\n",
       "⎜⎢                                                              ⎥  ⎢ ⎥⎟\n",
       "⎜⎢0   -1  0   -1  0   -1  0   0   0   0  0  1  0  0   -1  0   0 ⎥  ⎢0⎥⎟\n",
       "⎜⎢                                                              ⎥  ⎢ ⎥⎟\n",
       "⎝⎣0   0   0   0   0   0   0   0   -1  0  0  0  1  0   0   -1  -1⎦  ⎣0⎦⎠"
      ]
     },
     "execution_count": 31,
     "metadata": {},
     "output_type": "execute_result"
    }
   ],
   "source": [
    "sym.linear_eq_to_matrix(f_eq,[l1,l2,l3,l4,l5,l6,l7,l8,l9,t_j_y,t_k_y,t_N_y,t_1_y,t_i_x,t_N_x,t_1_x,e_dxy])"
   ]
  },
  {
   "cell_type": "markdown",
   "metadata": {},
   "source": [
    "Let's create the corresponding matrix for $g$ constraint. Now, in this case, our vector space $e$ has a different basis due to the fact that the $g$ function maps points from $(j_s,k_s,j_t,k_t)$. So let's create another $\\Gamma^d_{sr}$ tensor to contain this new space vector:"
   ]
  },
  {
   "cell_type": "code",
   "execution_count": 34,
   "metadata": {},
   "outputs": [
    {
     "data": {
      "text/latex": [
       "$\\displaystyle \\left[\\begin{matrix}t_{j y} & - t_{j y} & t_{k y} & - t_{k y} & 0 & - e_{dyy}\\end{matrix}\\right]$"
      ],
      "text/plain": [
       "[t_j_y  -t_j_y  t_k_y  -t_k_y  0  -e_dyy]"
      ]
     },
     "execution_count": 34,
     "metadata": {},
     "output_type": "execute_result"
    }
   ],
   "source": [
    "e_dyy  = sym.Symbol('e_dyy')\n",
    "#                    js    jt    ks     kt     N      1\n",
    "R_Y_s = sym.Array([t_j_y,  0  ,t_k_y,   0 ,  t_N_y, t_1_y])\n",
    "R_Y_t = sym.Array([  0  ,t_j_y,  0  ,t_k_y,  t_N_y, t_1_y])\n",
    "R_1   = sym.Array([  0  ,  0  ,  0  ,  0  ,    0,   e_dyy])\n",
    "S     = sym.Array([R_Y_s,R_Y_t,R_1])\n",
    "D     = sym.Array([S,S])\n",
    "T_t   = t.replace_with_arrays({Gamma(d,s,r):D,Dim(-d):[1,0],Stmt(-s):[1,-1,-1]})\n",
    "T_t"
   ]
  },
  {
   "cell_type": "code",
   "execution_count": 38,
   "metadata": {},
   "outputs": [
    {
     "data": {
      "text/latex": [
       "$\\displaystyle \\left[\\begin{array}{cccccccccccc}l_{10} & - l_{11} & 0 & 0 & 0 & 0 & 0 & 0 & l_{18} & - l_{19} & 0 & 0\\\\0 & 0 & 0 & 0 & l_{14} & - l_{15} & 0 & 0 & - l_{18} & l_{19} & 0 & 0\\\\0 & 0 & l_{12} & - l_{13} & 0 & 0 & 0 & 0 & 0 & 0 & l_{20} & 0\\\\0 & 0 & 0 & 0 & 0 & 0 & l_{16} & - l_{17} & 0 & 0 & - l_{20} & 0\\\\0 & l_{11} & 0 & l_{13} & 0 & l_{15} & 0 & l_{17} & 0 & 0 & 0 & 0\\\\0 & 0 & 0 & 0 & 0 & 0 & 0 & 0 & 0 & 0 & -1 & l_{21}\\end{array}\\right]$"
      ],
      "text/plain": [
       "⎡l₁₀  -l₁₁   0    0     0    0     0    0    l₁₈   -l₁₉   0     0 ⎤\n",
       "⎢                                                                 ⎥\n",
       "⎢ 0    0     0    0    l₁₄  -l₁₅   0    0    -l₁₈  l₁₉    0     0 ⎥\n",
       "⎢                                                                 ⎥\n",
       "⎢ 0    0    l₁₂  -l₁₃   0    0     0    0     0     0    l₂₀    0 ⎥\n",
       "⎢                                                                 ⎥\n",
       "⎢ 0    0     0    0     0    0    l₁₆  -l₁₇   0     0    -l₂₀   0 ⎥\n",
       "⎢                                                                 ⎥\n",
       "⎢ 0   l₁₁    0   l₁₃    0   l₁₅    0   l₁₇    0     0     0     0 ⎥\n",
       "⎢                                                                 ⎥\n",
       "⎣ 0    0     0    0     0    0     0    0     0     0     -1   l₂₁⎦"
      ]
     },
     "execution_count": 38,
     "metadata": {},
     "output_type": "execute_result"
    }
   ],
   "source": [
    "l10,l11,l12,l13,l14,l15,l16,l17,l18,l19,l20,l21 = sym.symbols(['l10','l11','l12','l13','l14','l15','l16','l17','l18','l19','l20','l21'])\n",
    "#                       js   jt    ks   kt   N   1\n",
    "bounds = sym.Matrix([[ l10,   0,   0,   0,   0,  0 ], # l10: js          >= 0\n",
    "                     [-l11,   0,   0,   0, l11,  0 ], # l11:-js + N      >= 0\n",
    "                     [   0,   0, l12,   0,   0,  0 ], # l12: ks          >= 0\n",
    "                     [   0,   0,-l13,   0, l13,  0 ], # l13:-ks + N      >= 0\n",
    "                     [   0, l14,   0,   0,   0,  0 ], # l14: jt          >= 0\n",
    "                     [   0,-l15,   0,   0, l15,  0 ], # l15:-jt + N      >= 0\n",
    "                     [   0,   0,   0, l16,   0,  0 ], # l16: kt          >= 0\n",
    "                     [   0,   0,   0,-l17, l17,  0 ], # l17:-kt + N      >= 0                 \n",
    "                     [ l18,-l18,   0,   0,   0,  0 ], # l18: js - jt     >= 0\n",
    "                     [-l19, l19,   0,   0,   0,  0 ], # l19:-js + jt     >= 0\n",
    "                     [   0,   0, l20,-l20,   0, -1 ], # l20: ks - kt - 1 >= 0\n",
    "                     [   0,   0,   0,   0,   0,l21 ]  # l21: e_dyy       >= 0\n",
    "])\n",
    "Farkas_g = bounds.as_mutable().T\n",
    "Farkas_g"
   ]
  },
  {
   "cell_type": "code",
   "execution_count": 40,
   "metadata": {},
   "outputs": [
    {
     "data": {
      "text/latex": [
       "$\\displaystyle \\left[ - l_{10} + l_{11} - l_{18} + l_{19} + t_{j y}, \\  - l_{14} + l_{15} + l_{18} - l_{19} - t_{j y}, \\  - l_{12} + l_{13} - l_{20} + t_{k y}, \\  - l_{16} + l_{17} + l_{20} - t_{k y}, \\  - l_{11} - l_{13} - l_{15} - l_{17}, \\  - e_{dyy} - l_{21} + 1\\right]$"
      ],
      "text/plain": [
       "[-l₁₀ + l₁₁ - l₁₈ + l₁₉ + t_j_y, -l₁₄ + l₁₅ + l₁₈ - l₁₉ - t_j_y, -l₁₂ + l₁₃ - \n",
       "l₂₀ + t_k_y, -l₁₆ + l₁₇ + l₂₀ - t_k_y, -l₁₁ - l₁₃ - l₁₅ - l₁₇, -e_dyy - l₂₁ + \n",
       "1]"
      ]
     },
     "execution_count": 40,
     "metadata": {},
     "output_type": "execute_result"
    }
   ],
   "source": [
    "o     = ones(1,Farkas_g.shape[1]).as_mutable().T\n",
    "g_rhs = Farkas_g * o\n",
    "g_eq  = (sym.Matrix(T_t) - g_rhs,0)\n",
    "g_eq  = [ a - b for a,b in zip(T_t,g_rhs)]\n",
    "g_eq"
   ]
  },
  {
   "cell_type": "code",
   "execution_count": 42,
   "metadata": {},
   "outputs": [
    {
     "data": {
      "text/latex": [
       "$\\displaystyle \\left( \\left[\\begin{array}{cccccccccccccccccccc}-1 & 1 & 0 & 0 & 0 & 0 & 0 & 0 & -1 & 1 & 0 & 0 & 1 & 0 & 0 & 0 & 0 & 0 & 0 & 0\\\\0 & 0 & 0 & 0 & -1 & 1 & 0 & 0 & 1 & -1 & 0 & 0 & -1 & 0 & 0 & 0 & 0 & 0 & 0 & 0\\\\0 & 0 & -1 & 1 & 0 & 0 & 0 & 0 & 0 & 0 & -1 & 0 & 0 & 1 & 0 & 0 & 0 & 0 & 0 & 0\\\\0 & 0 & 0 & 0 & 0 & 0 & -1 & 1 & 0 & 0 & 1 & 0 & 0 & -1 & 0 & 0 & 0 & 0 & 0 & 0\\\\0 & -1 & 0 & -1 & 0 & -1 & 0 & -1 & 0 & 0 & 0 & 0 & 0 & 0 & 0 & 0 & 0 & 0 & 0 & 0\\\\0 & 0 & 0 & 0 & 0 & 0 & 0 & 0 & 0 & 0 & 0 & -1 & 0 & 0 & 0 & 0 & 0 & 0 & 0 & -1\\end{array}\\right], \\  \\left[\\begin{matrix}0\\\\0\\\\0\\\\0\\\\0\\\\-1\\end{matrix}\\right]\\right)$"
      ],
      "text/plain": [
       "⎛⎡-1  1   0   0   0   0   0   0   -1  1   0   0   1   0   0  0  0  0  0  0 ⎤  \n",
       "⎜⎢                                                                         ⎥  \n",
       "⎜⎢0   0   0   0   -1  1   0   0   1   -1  0   0   -1  0   0  0  0  0  0  0 ⎥  \n",
       "⎜⎢                                                                         ⎥  \n",
       "⎜⎢0   0   -1  1   0   0   0   0   0   0   -1  0   0   1   0  0  0  0  0  0 ⎥  \n",
       "⎜⎢                                                                         ⎥, \n",
       "⎜⎢0   0   0   0   0   0   -1  1   0   0   1   0   0   -1  0  0  0  0  0  0 ⎥  \n",
       "⎜⎢                                                                         ⎥  \n",
       "⎜⎢0   -1  0   -1  0   -1  0   -1  0   0   0   0   0   0   0  0  0  0  0  0 ⎥  \n",
       "⎜⎢                                                                         ⎥  \n",
       "⎝⎣0   0   0   0   0   0   0   0   0   0   0   -1  0   0   0  0  0  0  0  -1⎦  \n",
       "\n",
       "⎡0 ⎤⎞\n",
       "⎢  ⎥⎟\n",
       "⎢0 ⎥⎟\n",
       "⎢  ⎥⎟\n",
       "⎢0 ⎥⎟\n",
       "⎢  ⎥⎟\n",
       "⎢0 ⎥⎟\n",
       "⎢  ⎥⎟\n",
       "⎢0 ⎥⎟\n",
       "⎢  ⎥⎟\n",
       "⎣-1⎦⎠"
      ]
     },
     "execution_count": 42,
     "metadata": {},
     "output_type": "execute_result"
    }
   ],
   "source": [
    "sym.linear_eq_to_matrix(g_eq,[l10,l11,l12,l13,l14,l15,l16,l17,l18,l19,l20,l21,t_j_y,t_k_y,t_N_y,t_1_y,t_i_x,t_N_x,t_1_x,e_dyy])"
   ]
  },
  {
   "cell_type": "markdown",
   "metadata": {},
   "source": [
    "combining $f$ and $g$ together"
   ]
  },
  {
   "cell_type": "code",
   "execution_count": 43,
   "metadata": {},
   "outputs": [
    {
     "data": {
      "text/latex": [
       "$\\displaystyle \\left[ - l_{1} + l_{2} - l_{7} + l_{8} - t_{i x}, \\  - l_{3} + l_{4} + t_{j y}, \\  - l_{5} + l_{6} + l_{7} - l_{8} + t_{k y}, \\  - l_{2} - l_{4} - l_{6} - t_{N x} + t_{N y}, \\  - e_{dxy} - l_{9} - t_{1 x} + t_{1 y}, \\  - l_{10} + l_{11} - l_{18} + l_{19} + t_{j y}, \\  - l_{14} + l_{15} + l_{18} - l_{19} - t_{j y}, \\  - l_{12} + l_{13} - l_{20} + t_{k y}, \\  - l_{16} + l_{17} + l_{20} - t_{k y}, \\  - l_{11} - l_{13} - l_{15} - l_{17}, \\  - e_{dyy} - l_{21} + 1\\right]$"
      ],
      "text/plain": [
       "[-l₁ + l₂ - l₇ + l₈ - tᵢ ₓ, -l₃ + l₄ + t_j_y, -l₅ + l₆ + l₇ - l₈ + t_k_y, -l₂ \n",
       "- l₄ - l₆ - t_N_x + t_N_y, -e_dxy - l₉ - t₁ ₓ + t_1_y, -l₁₀ + l₁₁ - l₁₈ + l₁₉ \n",
       "+ t_j_y, -l₁₄ + l₁₅ + l₁₈ - l₁₉ - t_j_y, -l₁₂ + l₁₃ - l₂₀ + t_k_y, -l₁₆ + l₁₇ \n",
       "+ l₂₀ - t_k_y, -l₁₁ - l₁₃ - l₁₅ - l₁₇, -e_dyy - l₂₁ + 1]"
      ]
     },
     "execution_count": 43,
     "metadata": {},
     "output_type": "execute_result"
    }
   ],
   "source": [
    "eq = f_eq + g_eq\n",
    "eq"
   ]
  },
  {
   "cell_type": "code",
   "execution_count": 44,
   "metadata": {},
   "outputs": [
    {
     "data": {
      "text/latex": [
       "$\\displaystyle \\left( \\left[\\begin{array}{cccccccccccccccccccccccccccccc}-1 & 1 & 0 & 0 & 0 & 0 & -1 & 1 & 0 & 0 & 0 & 0 & 0 & 0 & 0 & 0 & 0 & 0 & 0 & 0 & 0 & 0 & 0 & 0 & 0 & -1 & 0 & 0 & 0 & 0\\\\0 & 0 & -1 & 1 & 0 & 0 & 0 & 0 & 0 & 0 & 0 & 0 & 0 & 0 & 0 & 0 & 0 & 0 & 0 & 0 & 0 & 1 & 0 & 0 & 0 & 0 & 0 & 0 & 0 & 0\\\\0 & 0 & 0 & 0 & -1 & 1 & 1 & -1 & 0 & 0 & 0 & 0 & 0 & 0 & 0 & 0 & 0 & 0 & 0 & 0 & 0 & 0 & 1 & 0 & 0 & 0 & 0 & 0 & 0 & 0\\\\0 & -1 & 0 & -1 & 0 & -1 & 0 & 0 & 0 & 0 & 0 & 0 & 0 & 0 & 0 & 0 & 0 & 0 & 0 & 0 & 0 & 0 & 0 & 1 & 0 & 0 & -1 & 0 & 0 & 0\\\\0 & 0 & 0 & 0 & 0 & 0 & 0 & 0 & -1 & 0 & 0 & 0 & 0 & 0 & 0 & 0 & 0 & 0 & 0 & 0 & 0 & 0 & 0 & 0 & 1 & 0 & 0 & -1 & -1 & 0\\\\0 & 0 & 0 & 0 & 0 & 0 & 0 & 0 & 0 & -1 & 1 & 0 & 0 & 0 & 0 & 0 & 0 & -1 & 1 & 0 & 0 & 1 & 0 & 0 & 0 & 0 & 0 & 0 & 0 & 0\\\\0 & 0 & 0 & 0 & 0 & 0 & 0 & 0 & 0 & 0 & 0 & 0 & 0 & -1 & 1 & 0 & 0 & 1 & -1 & 0 & 0 & -1 & 0 & 0 & 0 & 0 & 0 & 0 & 0 & 0\\\\0 & 0 & 0 & 0 & 0 & 0 & 0 & 0 & 0 & 0 & 0 & -1 & 1 & 0 & 0 & 0 & 0 & 0 & 0 & -1 & 0 & 0 & 1 & 0 & 0 & 0 & 0 & 0 & 0 & 0\\\\0 & 0 & 0 & 0 & 0 & 0 & 0 & 0 & 0 & 0 & 0 & 0 & 0 & 0 & 0 & -1 & 1 & 0 & 0 & 1 & 0 & 0 & -1 & 0 & 0 & 0 & 0 & 0 & 0 & 0\\\\0 & 0 & 0 & 0 & 0 & 0 & 0 & 0 & 0 & 0 & -1 & 0 & -1 & 0 & -1 & 0 & -1 & 0 & 0 & 0 & 0 & 0 & 0 & 0 & 0 & 0 & 0 & 0 & 0 & 0\\\\0 & 0 & 0 & 0 & 0 & 0 & 0 & 0 & 0 & 0 & 0 & 0 & 0 & 0 & 0 & 0 & 0 & 0 & 0 & 0 & -1 & 0 & 0 & 0 & 0 & 0 & 0 & 0 & 0 & -1\\end{array}\\right], \\  \\left[\\begin{matrix}0\\\\0\\\\0\\\\0\\\\0\\\\0\\\\0\\\\0\\\\0\\\\0\\\\-1\\end{matrix}\\right]\\right)$"
      ],
      "text/plain": [
       "⎛⎡-1  1   0   0   0   0   -1  1   0   0   0   0   0   0   0   0   0   0   0   \n",
       "⎜⎢                                                                            \n",
       "⎜⎢0   0   -1  1   0   0   0   0   0   0   0   0   0   0   0   0   0   0   0   \n",
       "⎜⎢                                                                            \n",
       "⎜⎢0   0   0   0   -1  1   1   -1  0   0   0   0   0   0   0   0   0   0   0   \n",
       "⎜⎢                                                                            \n",
       "⎜⎢0   -1  0   -1  0   -1  0   0   0   0   0   0   0   0   0   0   0   0   0   \n",
       "⎜⎢                                                                            \n",
       "⎜⎢0   0   0   0   0   0   0   0   -1  0   0   0   0   0   0   0   0   0   0   \n",
       "⎜⎢                                                                            \n",
       "⎜⎢0   0   0   0   0   0   0   0   0   -1  1   0   0   0   0   0   0   -1  1   \n",
       "⎜⎢                                                                            \n",
       "⎜⎢0   0   0   0   0   0   0   0   0   0   0   0   0   -1  1   0   0   1   -1  \n",
       "⎜⎢                                                                            \n",
       "⎜⎢0   0   0   0   0   0   0   0   0   0   0   -1  1   0   0   0   0   0   0   \n",
       "⎜⎢                                                                            \n",
       "⎜⎢0   0   0   0   0   0   0   0   0   0   0   0   0   0   0   -1  1   0   0   \n",
       "⎜⎢                                                                            \n",
       "⎜⎢0   0   0   0   0   0   0   0   0   0   -1  0   -1  0   -1  0   -1  0   0   \n",
       "⎜⎢                                                                            \n",
       "⎝⎣0   0   0   0   0   0   0   0   0   0   0   0   0   0   0   0   0   0   0   \n",
       "\n",
       "0   0   0   0   0  0  -1  0   0   0   0 ⎤  ⎡0 ⎤⎞\n",
       "                                        ⎥  ⎢  ⎥⎟\n",
       "0   0   1   0   0  0  0   0   0   0   0 ⎥  ⎢0 ⎥⎟\n",
       "                                        ⎥  ⎢  ⎥⎟\n",
       "0   0   0   1   0  0  0   0   0   0   0 ⎥  ⎢0 ⎥⎟\n",
       "                                        ⎥  ⎢  ⎥⎟\n",
       "0   0   0   0   1  0  0   -1  0   0   0 ⎥  ⎢0 ⎥⎟\n",
       "                                        ⎥  ⎢  ⎥⎟\n",
       "0   0   0   0   0  1  0   0   -1  -1  0 ⎥  ⎢0 ⎥⎟\n",
       "                                        ⎥  ⎢  ⎥⎟\n",
       "0   0   1   0   0  0  0   0   0   0   0 ⎥, ⎢0 ⎥⎟\n",
       "                                        ⎥  ⎢  ⎥⎟\n",
       "0   0   -1  0   0  0  0   0   0   0   0 ⎥  ⎢0 ⎥⎟\n",
       "                                        ⎥  ⎢  ⎥⎟\n",
       "-1  0   0   1   0  0  0   0   0   0   0 ⎥  ⎢0 ⎥⎟\n",
       "                                        ⎥  ⎢  ⎥⎟\n",
       "1   0   0   -1  0  0  0   0   0   0   0 ⎥  ⎢0 ⎥⎟\n",
       "                                        ⎥  ⎢  ⎥⎟\n",
       "0   0   0   0   0  0  0   0   0   0   0 ⎥  ⎢0 ⎥⎟\n",
       "                                        ⎥  ⎢  ⎥⎟\n",
       "0   -1  0   0   0  0  0   0   0   0   -1⎦  ⎣-1⎦⎠"
      ]
     },
     "execution_count": 44,
     "metadata": {},
     "output_type": "execute_result"
    }
   ],
   "source": [
    "sym.linear_eq_to_matrix(eq,[l1,l2,l3,l4,l5,l6,l7,l8,l9,l10,l11,l12,l13,l14,l15,l16,l17,l18,l19,l20,l21,t_j_y,t_k_y,t_N_y,t_1_y,t_i_x,t_N_x,t_1_x,e_dxy,e_dyy])"
   ]
  }
 ],
 "metadata": {
  "kernelspec": {
   "display_name": "Python 3",
   "language": "python",
   "name": "python3"
  },
  "language_info": {
   "codemirror_mode": {
    "name": "ipython",
    "version": 3
   },
   "file_extension": ".py",
   "mimetype": "text/x-python",
   "name": "python",
   "nbconvert_exporter": "python",
   "pygments_lexer": "ipython3",
   "version": "3.9.2"
  }
 },
 "nbformat": 4,
 "nbformat_minor": 4
}
