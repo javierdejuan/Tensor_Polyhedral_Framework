{
 "cells": [
  {
   "cell_type": "markdown",
   "metadata": {},
   "source": [
    "## Tensor Polyhedra Framework  \n",
    "### Welcome to the future.  \n",
    "This is an educational version using symbolic library to focus on linear transformation. For a production code symbolic calculation is not needed.  \n",
    "In this demo we are going to perform a Polyhedral Scheduler Transformation on the following kernel written in C:  \n",
    "```\n",
    "for(i=0;i<=N;i++)\n",
    "    A[i]=0             // X statement\n",
    "for(j=0;j<=N;j++)\n",
    "    for(k=0,k<=N;k++)\n",
    "        B[j] += A[k];  // Y Statement\n",
    "```  \n",
    "In a polyhedral transformation, we do not care of the computing statements, so the above Kernel can be rewritten as:  \n",
    "```\n",
    "for(i=0;i<=N;i++)\n",
    "    X(i);             \n",
    "for(j=0;j<=N;j++)\n",
    "    for(k=0,k<=N;k++)\n",
    "        Y(j,k);\n",
    "```  \n",
    "Let's introduce the concept of *scheduling vectors*. A *scheduling vector* captures information regarding *when* a tuple $(i,j,k)$ is executed. Hence whe can map our ```X``` and ```Y``` statements like this:  \n",
    "```X(i,0,0)```-> X[i]     is executed at _date_ [i * *days*,0,0]  \n",
    "```Y(N,j,k)```-> Y[N,j,k] is executed at _data_ [N * *days*, j * *minutes*, k * *seconds*]  \n",
    "\n",
    "So, what really *is* a Polyhedral Transformation?  \n",
    "Well, unfortunatly Polyhedral Theory is difficult to understand, but the underlying idea is quit straight forward. How can we rearrange X and Y execution dates to have a new Kernel which obtain the same result as source Kernel but takes less time to obtain it?  \n",
    "This is done finding new X' and Y' such as  \n",
    "\n",
    "$$X´=(t^0_{xi}.i+t^0_{xj}.j+t^0_{xk}.k+t^0_{xN}.N+t^0_{x1}.1,t^1_{xi}.i+t^1_{xj}.j+t^1_{xk}.k+t^1_{xN}.N+t^1_{x1}.1)$$ and  \n",
    "\n",
    "$$Y´=(t^0_{yi}.i+t^0_{yj}.j+t^0_{yk}.k+t^0_{yN}.N+t^0_{y1}.1,t^0_{yi}.i+t^0_{yj}.j+t^0_{yk}.k+t^0_{yN}.N+t^0_{y1}.1)$$\n",
    "\n",
    "where $t^d_{sr}$ coefficients are optimaly calculated to ensure that we get a code that yields the same result and execute faster relying on the possibilities of parallelization of the hardware.  \n",
    "In order to solve our problem, we need to feed our polyhedral model with a set of constraints that ensures legal excution of code:  \n",
    "we define:  \n",
    "```\n",
    "    D_X = { (i)     | 0 <= i <= N }  \n",
    "    D_Y = { (j,k)   | 0 <= j <= N && 0 <= k <= N }\n",
    "```\n",
    "We can then define a kind of constraints called *dependencies* such as:\n",
    "\n",
    "```  \n",
    "    D_XY = { (ic,jc,kc)     | 0 <= ic <= N  && 0 <= jc <= N && 0 <= kc <= N && ic == kc } \n",
    "    D_YY = { (js,ks,jt,kt)  | 0 <= js <= N  && 0 <= ks <= N && 0 <= jt <= N  && 0 <= kt <= N && js == kt && kt > ks  }\n",
    "```\n",
    "Expression ```D_XY``` captures the read/write access of statements X and Y over array A: ```A[k]=A[i]```.  \n",
    "In the other hand, expression ```D_YY``` capures the read/write access of statement Y over array B: ```B[j] = B[j] + A[k]```.\n",
    "\n",
    "Last, let's define two function $f$ and $g$ such as:  \n",
    "\n",
    "```\n",
    "    f(i_c,j_c,k_t)=T_y(j_c,k_c)-T_x(i_c)-e_dxy>=0 in D_XY\n",
    "```\n",
    "and  \n",
    "```    \n",
    "    g(j_s,k_s,j_t,k_t)=T_y(j_t,k_t)-T_y(j_s,k_s)-e_dyy>=0 in D_YY\n",
    "``` \n",
    "\n",
    "Both functions captures the access relations and the precedences constraints. From C code we derive that B[k] must be executed after A[i]. Besides variables js,ks,jt and kt captures the B[k] = B[k] + A[j] precedence constraint."
   ]
  },
  {
   "cell_type": "code",
   "execution_count": 1,
   "metadata": {},
   "outputs": [
    {
     "ename": "SyntaxError",
     "evalue": "invalid syntax (<ipython-input-1-4408bb309bdb>, line 1)",
     "output_type": "error",
     "traceback": [
      "\u001b[0;36m  File \u001b[0;32m\"<ipython-input-1-4408bb309bdb>\"\u001b[0;36m, line \u001b[0;32m1\u001b[0m\n\u001b[0;31m    We can define *dependencies* such as:\u001b[0m\n\u001b[0m       ^\u001b[0m\n\u001b[0;31mSyntaxError\u001b[0m\u001b[0;31m:\u001b[0m invalid syntax\n"
     ]
    }
   ],
   "source": []
  },
  {
   "cell_type": "code",
   "execution_count": null,
   "metadata": {},
   "outputs": [],
   "source": []
  }
 ],
 "metadata": {
  "kernelspec": {
   "display_name": "Python 3",
   "language": "python",
   "name": "python3"
  },
  "language_info": {
   "codemirror_mode": {
    "name": "ipython",
    "version": 3
   },
   "file_extension": ".py",
   "mimetype": "text/x-python",
   "name": "python",
   "nbconvert_exporter": "python",
   "pygments_lexer": "ipython3",
   "version": "3.8.5"
  }
 },
 "nbformat": 4,
 "nbformat_minor": 4
}
